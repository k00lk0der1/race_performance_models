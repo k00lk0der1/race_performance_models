{
 "cells": [
  {
   "cell_type": "code",
   "execution_count": null,
   "metadata": {
    "_cell_guid": "b1076dfc-b9ad-4769-8c92-a6c4dae69d19",
    "_uuid": "8f2839f25d086af736a60e9eeb907d3b93b6e0e5",
    "execution": {
     "iopub.execute_input": "2025-08-31T10:15:51.151942Z",
     "iopub.status.busy": "2025-08-31T10:15:51.15161Z",
     "iopub.status.idle": "2025-08-31T10:15:51.161517Z",
     "shell.execute_reply": "2025-08-31T10:15:51.16023Z",
     "shell.execute_reply.started": "2025-08-31T10:15:51.151919Z"
    },
    "id": "xScCSxINoQrx"
   },
   "outputs": [],
   "source": [
    "SQL_FILE_PATH = \"historic_data.sqlite\""
   ]
  },
  {
   "cell_type": "markdown",
   "metadata": {
    "id": "rC19F6BZoQry"
   },
   "source": [
    "# Relevant Libraries"
   ]
  },
  {
   "cell_type": "code",
   "execution_count": null,
   "metadata": {
    "execution": {
     "iopub.execute_input": "2025-08-31T10:15:51.276733Z",
     "iopub.status.busy": "2025-08-31T10:15:51.276009Z",
     "iopub.status.idle": "2025-08-31T10:15:52.528379Z",
     "shell.execute_reply": "2025-08-31T10:15:52.527281Z",
     "shell.execute_reply.started": "2025-08-31T10:15:51.276691Z"
    },
    "id": "qw8eL7_aoQr0"
   },
   "outputs": [],
   "source": [
    "import sqlite3\n",
    "import pandas as pd\n",
    "import numpy as np\n",
    "import scipy.stats\n",
    "import matplotlib.pyplot as plt\n",
    "import seaborn as sns\n",
    "from IPython.display import HTML, Latex"
   ]
  },
  {
   "cell_type": "code",
   "execution_count": null,
   "metadata": {
    "execution": {
     "iopub.execute_input": "2025-08-31T10:15:52.530716Z",
     "iopub.status.busy": "2025-08-31T10:15:52.529954Z",
     "iopub.status.idle": "2025-08-31T10:15:52.53681Z",
     "shell.execute_reply": "2025-08-31T10:15:52.535206Z",
     "shell.execute_reply.started": "2025-08-31T10:15:52.530682Z"
    },
    "id": "DRkn6JAHoQr1"
   },
   "outputs": [],
   "source": [
    "sqlite_connection = sqlite3.connect(SQL_FILE_PATH)"
   ]
  },
  {
   "cell_type": "markdown",
   "metadata": {
    "id": "6d8q60eloQr3"
   },
   "source": [
    "# Utility Functions and constants"
   ]
  },
  {
   "cell_type": "code",
   "execution_count": null,
   "metadata": {
    "execution": {
     "iopub.execute_input": "2025-08-31T10:15:52.53895Z",
     "iopub.status.busy": "2025-08-31T10:15:52.538617Z",
     "iopub.status.idle": "2025-08-31T10:15:52.570406Z",
     "shell.execute_reply": "2025-08-31T10:15:52.568443Z",
     "shell.execute_reply.started": "2025-08-31T10:15:52.538926Z"
    },
    "id": "Ni12tEJxoQr4"
   },
   "outputs": [],
   "source": [
    "percentiles = [0,0.005,0.25,0.5,0.75,0.995,1]\n",
    "cols_to_keep = [\"mean\", \"0%\", \"0.5%\", \"25%\", \"50%\", \"75%\", \"99.5%\", \"100%\"]\n",
    "\n",
    "def get_conditional_correlation_df(dataset, var1, var2, cond_var, index_name, significance=0.95):\n",
    "    cond_corr_df = pd.DataFrame()\n",
    "    cond_corr_df[\n",
    "        f\"Estimate\"\n",
    "    ] = race_data.groupby(cond_var).apply(\n",
    "        lambda x : scipy.stats.pearsonr(x[var1], x[var2])[0]\n",
    "    )\n",
    "    cond_corr_df[\n",
    "        f\"p-value\"\n",
    "    ] = race_data.groupby(cond_var).apply(\n",
    "        lambda x : scipy.stats.pearsonr(x[var1], x[var2])[1].round(5)\n",
    "    )\n",
    "    cond_corr_df[\n",
    "        f\"Lower {np.round(100*(1-significance)/2,2)}% CI Bound\"\n",
    "    ] = race_data.groupby(cond_var).apply(\n",
    "        lambda x : scipy.stats.pearsonr(x[var1], x[var2]).confidence_interval(significance)[0]\n",
    "    )\n",
    "    cond_corr_df[\n",
    "        f\"Upper {np.round(100*(significance+1)/2,2)}% CI Bound\"\n",
    "    ] = race_data.groupby(cond_var).apply(\n",
    "        lambda x : scipy.stats.pearsonr(x[var1], x[var2]).confidence_interval(significance)[1]\n",
    "    )\n",
    "    cond_corr_df.index.name = index_name\n",
    "    return cond_corr_df"
   ]
  },
  {
   "cell_type": "markdown",
   "metadata": {
    "id": "UETGfTYkoQr7"
   },
   "source": [
    "# Analysis of Race Related Data"
   ]
  },
  {
   "cell_type": "code",
   "execution_count": null,
   "metadata": {
    "execution": {
     "iopub.execute_input": "2025-08-31T10:15:52.573543Z",
     "iopub.status.busy": "2025-08-31T10:15:52.573123Z",
     "iopub.status.idle": "2025-08-31T10:15:54.184188Z",
     "shell.execute_reply": "2025-08-31T10:15:54.183152Z",
     "shell.execute_reply.started": "2025-08-31T10:15:52.573513Z"
    },
    "id": "Zxo594eooQr9"
   },
   "outputs": [],
   "source": [
    "race_sql_query = \"\"\"\n",
    "SELECT\n",
    "DISTINCT(race_id) as race_id,\n",
    "course as race_course,\n",
    "race_type,\n",
    "going as race_going_condition,\n",
    "direction as race_direction,\n",
    "meeting_date as date,\n",
    "distance_yards,\n",
    "winning_time_secs,\n",
    "added_money\n",
    "FROM\n",
    "historic_races\n",
    "\"\"\"\n",
    "\n",
    "race_data = pd.read_sql(race_sql_query, sqlite_connection)"
   ]
  },
  {
   "cell_type": "code",
   "execution_count": null,
   "metadata": {
    "execution": {
     "iopub.execute_input": "2025-08-31T10:15:54.185487Z",
     "iopub.status.busy": "2025-08-31T10:15:54.185134Z",
     "iopub.status.idle": "2025-08-31T10:15:54.26208Z",
     "shell.execute_reply": "2025-08-31T10:15:54.260941Z",
     "shell.execute_reply.started": "2025-08-31T10:15:54.185453Z"
    },
    "id": "5rrwpi8xoQr9",
    "outputId": "097abd8b-30c0-4c25-abde-de5352126f37"
   },
   "outputs": [
    {
     "name": "stdout",
     "output_type": "stream",
     "text": [
      "Number of races : 265110\n",
      "Number of races with prize less than E10 or prize nan : 460\n",
      "Number of races with winner time less than 30 seconds : 1732\n",
      "Number of races where going condition is not recorded : 696\n"
     ]
    }
   ],
   "source": [
    "print(f\"Number of races : {race_data['race_id'].nunique()}\")\n",
    "print(\n",
    "    f\"Number of races with prize less than E10 or prize nan : {(race_data['added_money']<10).astype(int).sum() + (race_data['added_money'].isna()).astype(int).sum()}\"\n",
    ")\n",
    "print(\n",
    "    f\"Number of races with winner time less than 30 seconds : {(race_data['winning_time_secs']<30).astype(int).sum()}\"\n",
    ")\n",
    "print(\n",
    "    f\"Number of races where going condition is not recorded : {race_data['race_going_condition'].apply(lambda x : x is None).sum()}\"\n",
    ")\n"
   ]
  },
  {
   "cell_type": "code",
   "execution_count": null,
   "metadata": {
    "execution": {
     "iopub.execute_input": "2025-08-31T10:15:54.26303Z",
     "iopub.status.busy": "2025-08-31T10:15:54.262771Z",
     "iopub.status.idle": "2025-08-31T10:15:54.306925Z",
     "shell.execute_reply": "2025-08-31T10:15:54.306115Z",
     "shell.execute_reply.started": "2025-08-31T10:15:54.263008Z"
    },
    "id": "ObJDAi_UoQr_",
    "outputId": "1d3fa5e1-cb62-442d-8980-e82362eb412e"
   },
   "outputs": [
    {
     "data": {
      "text/html": [
       "<div>\n",
       "<style scoped>\n",
       "    .dataframe tbody tr th:only-of-type {\n",
       "        vertical-align: middle;\n",
       "    }\n",
       "\n",
       "    .dataframe tbody tr th {\n",
       "        vertical-align: top;\n",
       "    }\n",
       "\n",
       "    .dataframe thead th {\n",
       "        text-align: right;\n",
       "    }\n",
       "</style>\n",
       "<table border=\"1\" class=\"dataframe\">\n",
       "  <thead>\n",
       "    <tr style=\"text-align: right;\">\n",
       "      <th></th>\n",
       "      <th>count</th>\n",
       "    </tr>\n",
       "    <tr>\n",
       "      <th>race_type</th>\n",
       "      <th></th>\n",
       "    </tr>\n",
       "  </thead>\n",
       "  <tbody>\n",
       "    <tr>\n",
       "      <th>Flat</th>\n",
       "      <td>102287</td>\n",
       "    </tr>\n",
       "    <tr>\n",
       "      <th>Hurdle</th>\n",
       "      <td>58430</td>\n",
       "    </tr>\n",
       "    <tr>\n",
       "      <th>All Weather Flat</th>\n",
       "      <td>54645</td>\n",
       "    </tr>\n",
       "    <tr>\n",
       "      <th>Chase</th>\n",
       "      <td>39481</td>\n",
       "    </tr>\n",
       "    <tr>\n",
       "      <th>National Hunt Flat</th>\n",
       "      <td>10255</td>\n",
       "    </tr>\n",
       "    <tr>\n",
       "      <th>Trotting</th>\n",
       "      <td>10</td>\n",
       "    </tr>\n",
       "    <tr>\n",
       "      <th>Point to Point</th>\n",
       "      <td>2</td>\n",
       "    </tr>\n",
       "  </tbody>\n",
       "</table>\n",
       "</div>"
      ],
      "text/plain": [
       "                     count\n",
       "race_type                 \n",
       "Flat                102287\n",
       "Hurdle               58430\n",
       "All Weather Flat     54645\n",
       "Chase                39481\n",
       "National Hunt Flat   10255\n",
       "Trotting                10\n",
       "Point to Point           2"
      ]
     },
     "execution_count": 7,
     "metadata": {},
     "output_type": "execute_result"
    }
   ],
   "source": [
    "race_data['race_type'].value_counts().to_frame()"
   ]
  },
  {
   "cell_type": "code",
   "execution_count": null,
   "metadata": {
    "execution": {
     "iopub.execute_input": "2025-08-31T10:15:54.309209Z",
     "iopub.status.busy": "2025-08-31T10:15:54.308452Z",
     "iopub.status.idle": "2025-08-31T10:15:54.450416Z",
     "shell.execute_reply": "2025-08-31T10:15:54.44925Z",
     "shell.execute_reply.started": "2025-08-31T10:15:54.309177Z"
    },
    "id": "7CrijRN6oQr_"
   },
   "outputs": [],
   "source": [
    "race_data = race_data[race_data['race_type'].apply(lambda x : x not in {\"Trotting\", \"Point to Point\"})]"
   ]
  },
  {
   "cell_type": "code",
   "execution_count": null,
   "metadata": {
    "execution": {
     "iopub.execute_input": "2025-08-31T10:15:54.451475Z",
     "iopub.status.busy": "2025-08-31T10:15:54.451196Z",
     "iopub.status.idle": "2025-08-31T10:15:54.536657Z",
     "shell.execute_reply": "2025-08-31T10:15:54.53457Z",
     "shell.execute_reply.started": "2025-08-31T10:15:54.451454Z"
    },
    "id": "Lk4MakkqoQsA",
    "outputId": "3afe856e-d827-48ff-c1bd-189222454b98"
   },
   "outputs": [
    {
     "name": "stderr",
     "output_type": "stream",
     "text": [
      "/usr/local/lib/python3.11/dist-packages/pandas/core/arraylike.py:399: RuntimeWarning: invalid value encountered in log\n",
      "  result = getattr(ufunc, method)(*inputs, **kwargs)\n"
     ]
    },
    {
     "data": {
      "text/html": [
       "<div>\n",
       "<style scoped>\n",
       "    .dataframe tbody tr th:only-of-type {\n",
       "        vertical-align: middle;\n",
       "    }\n",
       "\n",
       "    .dataframe tbody tr th {\n",
       "        vertical-align: top;\n",
       "    }\n",
       "\n",
       "    .dataframe thead th {\n",
       "        text-align: right;\n",
       "    }\n",
       "</style>\n",
       "<table border=\"1\" class=\"dataframe\">\n",
       "  <thead>\n",
       "    <tr style=\"text-align: right;\">\n",
       "      <th></th>\n",
       "      <th>mean</th>\n",
       "      <th>0%</th>\n",
       "      <th>0.5%</th>\n",
       "      <th>25%</th>\n",
       "      <th>50%</th>\n",
       "      <th>75%</th>\n",
       "      <th>99.5%</th>\n",
       "      <th>100%</th>\n",
       "    </tr>\n",
       "  </thead>\n",
       "  <tbody>\n",
       "    <tr>\n",
       "      <th>distance_yards</th>\n",
       "      <td>2836.383912</td>\n",
       "      <td>1038.000000</td>\n",
       "      <td>1100.000000</td>\n",
       "      <td>1540.000000</td>\n",
       "      <td>2640.000000</td>\n",
       "      <td>3850.000000</td>\n",
       "      <td>5940.000000</td>\n",
       "      <td>7920.000000</td>\n",
       "    </tr>\n",
       "    <tr>\n",
       "      <th>log_distance_yards</th>\n",
       "      <td>7.823557</td>\n",
       "      <td>6.945051</td>\n",
       "      <td>7.003065</td>\n",
       "      <td>7.339538</td>\n",
       "      <td>7.878534</td>\n",
       "      <td>8.255828</td>\n",
       "      <td>8.689464</td>\n",
       "      <td>8.977146</td>\n",
       "    </tr>\n",
       "  </tbody>\n",
       "</table>\n",
       "</div>"
      ],
      "text/plain": [
       "                           mean           0%         0.5%          25%  \\\n",
       "distance_yards      2836.383912  1038.000000  1100.000000  1540.000000   \n",
       "log_distance_yards     7.823557     6.945051     7.003065     7.339538   \n",
       "\n",
       "                            50%          75%        99.5%         100%  \n",
       "distance_yards      2640.000000  3850.000000  5940.000000  7920.000000  \n",
       "log_distance_yards     7.878534     8.255828     8.689464     8.977146  "
      ]
     },
     "execution_count": 9,
     "metadata": {},
     "output_type": "execute_result"
    }
   ],
   "source": [
    "race_data['log_distance_yards'] = np.log(race_data['distance_yards'])\n",
    "race_data[['distance_yards', 'log_distance_yards']].describe(percentiles=percentiles).T[cols_to_keep]"
   ]
  },
  {
   "cell_type": "code",
   "execution_count": null,
   "metadata": {
    "execution": {
     "iopub.execute_input": "2025-08-31T10:15:54.539397Z",
     "iopub.status.busy": "2025-08-31T10:15:54.538716Z",
     "iopub.status.idle": "2025-08-31T10:15:54.825681Z",
     "shell.execute_reply": "2025-08-31T10:15:54.824451Z",
     "shell.execute_reply.started": "2025-08-31T10:15:54.539277Z"
    },
    "id": "Lf3btlMVoQsA",
    "outputId": "88ec4b56-572d-4352-ce9e-3783fe701e90"
   },
   "outputs": [
    {
     "data": {
      "image/png": "[encoded data removed]",
      "text/plain": [
       "<Figure size 640x480 with 1 Axes>"
      ]
     },
     "metadata": {},
     "output_type": "display_data"
    }
   ],
   "source": [
    "race_data['distance_yards'].plot.hist(\n",
    "    bins = 50,\n",
    "    xlabel=\"Length of Race in yards\",\n",
    "    ylabel=\"Density\",\n",
    "    #title=\"Distribution of Length of Race\",\n",
    "    density=True\n",
    ")\n",
    "plt.show()"
   ]
  },
  {
   "cell_type": "code",
   "execution_count": null,
   "metadata": {
    "execution": {
     "iopub.execute_input": "2025-08-31T10:15:54.830002Z",
     "iopub.status.busy": "2025-08-31T10:15:54.829669Z",
     "iopub.status.idle": "2025-08-31T10:15:54.892729Z",
     "shell.execute_reply": "2025-08-31T10:15:54.891692Z",
     "shell.execute_reply.started": "2025-08-31T10:15:54.82998Z"
    },
    "id": "6LNFX1iloQsB",
    "outputId": "d84f6514-fa03-4252-9d03-555849b9628c"
   },
   "outputs": [
    {
     "data": {
      "text/html": [
       "<div>\n",
       "<style scoped>\n",
       "    .dataframe tbody tr th:only-of-type {\n",
       "        vertical-align: middle;\n",
       "    }\n",
       "\n",
       "    .dataframe tbody tr th {\n",
       "        vertical-align: top;\n",
       "    }\n",
       "\n",
       "    .dataframe thead th {\n",
       "        text-align: right;\n",
       "    }\n",
       "</style>\n",
       "<table border=\"1\" class=\"dataframe\">\n",
       "  <thead>\n",
       "    <tr style=\"text-align: right;\">\n",
       "      <th></th>\n",
       "      <th>mean</th>\n",
       "      <th>0%</th>\n",
       "      <th>0.5%</th>\n",
       "      <th>25%</th>\n",
       "      <th>50%</th>\n",
       "      <th>75%</th>\n",
       "      <th>99.5%</th>\n",
       "      <th>100%</th>\n",
       "    </tr>\n",
       "  </thead>\n",
       "  <tbody>\n",
       "    <tr>\n",
       "      <th>winning_time_secs</th>\n",
       "      <td>184.809630</td>\n",
       "      <td>0.000000</td>\n",
       "      <td>0.000000</td>\n",
       "      <td>88.390000</td>\n",
       "      <td>149.900000</td>\n",
       "      <td>268.307500</td>\n",
       "      <td>445.756350</td>\n",
       "      <td>3599.400000</td>\n",
       "    </tr>\n",
       "    <tr>\n",
       "      <th>log_winning_time_secs</th>\n",
       "      <td>4.942106</td>\n",
       "      <td>-11.512925</td>\n",
       "      <td>-11.512925</td>\n",
       "      <td>4.481759</td>\n",
       "      <td>5.009968</td>\n",
       "      <td>5.592134</td>\n",
       "      <td>6.099773</td>\n",
       "      <td>8.188522</td>\n",
       "    </tr>\n",
       "  </tbody>\n",
       "</table>\n",
       "</div>"
      ],
      "text/plain": [
       "                             mean         0%       0.5%        25%  \\\n",
       "winning_time_secs      184.809630   0.000000   0.000000  88.390000   \n",
       "log_winning_time_secs    4.942106 -11.512925 -11.512925   4.481759   \n",
       "\n",
       "                              50%         75%       99.5%         100%  \n",
       "winning_time_secs      149.900000  268.307500  445.756350  3599.400000  \n",
       "log_winning_time_secs    5.009968    5.592134    6.099773     8.188522  "
      ]
     },
     "execution_count": 11,
     "metadata": {},
     "output_type": "execute_result"
    }
   ],
   "source": [
    "race_data['log_winning_time_secs'] = np.log(race_data['winning_time_secs']+1e-5)\n",
    "race_data[['winning_time_secs', 'log_winning_time_secs']].describe(percentiles=percentiles).T[cols_to_keep]"
   ]
  },
  {
   "cell_type": "code",
   "execution_count": null,
   "metadata": {
    "execution": {
     "iopub.execute_input": "2025-08-31T10:15:54.893967Z",
     "iopub.status.busy": "2025-08-31T10:15:54.893697Z",
     "iopub.status.idle": "2025-08-31T10:15:54.966327Z",
     "shell.execute_reply": "2025-08-31T10:15:54.965125Z",
     "shell.execute_reply.started": "2025-08-31T10:15:54.893944Z"
    },
    "id": "-kiwHGn2oQsB"
   },
   "outputs": [],
   "source": [
    "race_data = race_data[(race_data['winning_time_secs']>30)]"
   ]
  },
  {
   "cell_type": "code",
   "execution_count": null,
   "metadata": {
    "execution": {
     "iopub.execute_input": "2025-08-31T10:15:54.96748Z",
     "iopub.status.busy": "2025-08-31T10:15:54.967202Z",
     "iopub.status.idle": "2025-08-31T10:15:55.305507Z",
     "shell.execute_reply": "2025-08-31T10:15:55.303991Z",
     "shell.execute_reply.started": "2025-08-31T10:15:54.967458Z"
    },
    "id": "0PWwaIBxoQsC",
    "outputId": "068a10da-2e04-43ea-c50c-98c54ff8ece1"
   },
   "outputs": [
    {
     "data": {
      "image/png": "[encoded data removed]",
      "text/plain": [
       "<Figure size 640x480 with 1 Axes>"
      ]
     },
     "metadata": {},
     "output_type": "display_data"
    }
   ],
   "source": [
    "race_data['winning_time_secs'][race_data['winning_time_secs']<1000].plot.hist(\n",
    "    bins = 100,\n",
    "    xlabel=\"Winner's finish time in seconds\",\n",
    "    ylabel=\"Density\",\n",
    "    #title=\"Distribution of Winner's finish time\\n (Truncated on right for values greater than 1000)\",\n",
    "    density=True\n",
    ")\n",
    "plt.show()"
   ]
  },
  {
   "cell_type": "code",
   "execution_count": null,
   "metadata": {
    "execution": {
     "iopub.execute_input": "2025-08-31T10:15:55.307235Z",
     "iopub.status.busy": "2025-08-31T10:15:55.306833Z",
     "iopub.status.idle": "2025-08-31T10:15:55.375622Z",
     "shell.execute_reply": "2025-08-31T10:15:55.37436Z",
     "shell.execute_reply.started": "2025-08-31T10:15:55.307207Z"
    },
    "id": "_rMEjwgGoQsC",
    "outputId": "641ba456-3323-43a3-cd6e-cf21c90e2dfd"
   },
   "outputs": [
    {
     "data": {
      "text/html": [
       "<div>\n",
       "<style scoped>\n",
       "    .dataframe tbody tr th:only-of-type {\n",
       "        vertical-align: middle;\n",
       "    }\n",
       "\n",
       "    .dataframe tbody tr th {\n",
       "        vertical-align: top;\n",
       "    }\n",
       "\n",
       "    .dataframe thead th {\n",
       "        text-align: right;\n",
       "    }\n",
       "</style>\n",
       "<table border=\"1\" class=\"dataframe\">\n",
       "  <thead>\n",
       "    <tr style=\"text-align: right;\">\n",
       "      <th></th>\n",
       "      <th>mean</th>\n",
       "      <th>0%</th>\n",
       "      <th>0.5%</th>\n",
       "      <th>25%</th>\n",
       "      <th>50%</th>\n",
       "      <th>75%</th>\n",
       "      <th>99.5%</th>\n",
       "      <th>100%</th>\n",
       "    </tr>\n",
       "  </thead>\n",
       "  <tbody>\n",
       "    <tr>\n",
       "      <th>added_money</th>\n",
       "      <td>14111.491716</td>\n",
       "      <td>0.000000</td>\n",
       "      <td>2000.000000</td>\n",
       "      <td>5000.000000</td>\n",
       "      <td>7327.590000</td>\n",
       "      <td>11000.000000</td>\n",
       "      <td>200000.000000</td>\n",
       "      <td>1.625000e+06</td>\n",
       "    </tr>\n",
       "    <tr>\n",
       "      <th>log_added_money</th>\n",
       "      <td>9.010488</td>\n",
       "      <td>-11.512925</td>\n",
       "      <td>7.600902</td>\n",
       "      <td>8.517193</td>\n",
       "      <td>8.899402</td>\n",
       "      <td>9.305651</td>\n",
       "      <td>12.206073</td>\n",
       "      <td>1.430102e+01</td>\n",
       "    </tr>\n",
       "  </tbody>\n",
       "</table>\n",
       "</div>"
      ],
      "text/plain": [
       "                         mean         0%         0.5%          25%  \\\n",
       "added_money      14111.491716   0.000000  2000.000000  5000.000000   \n",
       "log_added_money      9.010488 -11.512925     7.600902     8.517193   \n",
       "\n",
       "                         50%           75%          99.5%          100%  \n",
       "added_money      7327.590000  11000.000000  200000.000000  1.625000e+06  \n",
       "log_added_money     8.899402      9.305651      12.206073  1.430102e+01  "
      ]
     },
     "execution_count": 14,
     "metadata": {},
     "output_type": "execute_result"
    }
   ],
   "source": [
    "race_data['log_added_money'] = np.log(race_data['added_money']+1e-5)\n",
    "race_data[['added_money', 'log_added_money']].describe(percentiles=percentiles).T[cols_to_keep]#.to_latex(float_format=\"{:.2f}\".format))"
   ]
  },
  {
   "cell_type": "code",
   "execution_count": null,
   "metadata": {
    "execution": {
     "iopub.execute_input": "2025-08-31T10:15:55.377004Z",
     "iopub.status.busy": "2025-08-31T10:15:55.376732Z",
     "iopub.status.idle": "2025-08-31T10:15:55.45817Z",
     "shell.execute_reply": "2025-08-31T10:15:55.457159Z",
     "shell.execute_reply.started": "2025-08-31T10:15:55.376983Z"
    },
    "id": "Sfa85fVboQsD"
   },
   "outputs": [],
   "source": [
    "race_data = race_data[race_data['added_money']>10]"
   ]
  },
  {
   "cell_type": "code",
   "execution_count": null,
   "metadata": {
    "execution": {
     "iopub.execute_input": "2025-08-31T10:15:55.459776Z",
     "iopub.status.busy": "2025-08-31T10:15:55.459502Z",
     "iopub.status.idle": "2025-08-31T10:15:55.911823Z",
     "shell.execute_reply": "2025-08-31T10:15:55.910764Z",
     "shell.execute_reply.started": "2025-08-31T10:15:55.459754Z"
    },
    "id": "AFfqHoltoQsD",
    "outputId": "9126f604-929b-4728-a95f-350fab8640df"
   },
   "outputs": [
    {
     "data": {
      "text/plain": [
       "<Axes: xlabel='$ln($Total Prize Pool in GBP$)$', ylabel='Density'>"
      ]
     },
     "execution_count": 16,
     "metadata": {},
     "output_type": "execute_result"
    },
    {
     "data": {
      "image/png": "[encoded data removed]",
      "text/plain": [
       "<Figure size 640x480 with 1 Axes>"
      ]
     },
     "metadata": {},
     "output_type": "display_data"
    }
   ],
   "source": [
    "race_data['log_added_money'][race_data['added_money']>10].plot.hist(\n",
    "    bins=100,\n",
    "    xlabel=\"$ln($Total Prize Pool in GBP$)$\",\n",
    "    ylabel=\"Density\",\n",
    "    #title=\"Distribution of Length of Race\",\n",
    "    density=True\n",
    "\n",
    ")"
   ]
  },
  {
   "cell_type": "code",
   "execution_count": null,
   "metadata": {
    "execution": {
     "iopub.execute_input": "2025-08-31T10:15:55.913719Z",
     "iopub.status.busy": "2025-08-31T10:15:55.912972Z",
     "iopub.status.idle": "2025-08-31T10:15:55.975246Z",
     "shell.execute_reply": "2025-08-31T10:15:55.973901Z",
     "shell.execute_reply.started": "2025-08-31T10:15:55.91368Z"
    },
    "id": "xDf_rzE5oQsE",
    "outputId": "963cc6d9-4f22-496e-b88c-b59139f43777"
   },
   "outputs": [
    {
     "data": {
      "text/html": [
       "<div>\n",
       "<style scoped>\n",
       "    .dataframe tbody tr th:only-of-type {\n",
       "        vertical-align: middle;\n",
       "    }\n",
       "\n",
       "    .dataframe tbody tr th {\n",
       "        vertical-align: top;\n",
       "    }\n",
       "\n",
       "    .dataframe thead th {\n",
       "        text-align: right;\n",
       "    }\n",
       "</style>\n",
       "<table border=\"1\" class=\"dataframe\">\n",
       "  <thead>\n",
       "    <tr style=\"text-align: right;\">\n",
       "      <th></th>\n",
       "      <th>mean</th>\n",
       "      <th>0%</th>\n",
       "      <th>0.5%</th>\n",
       "      <th>25%</th>\n",
       "      <th>50%</th>\n",
       "      <th>75%</th>\n",
       "      <th>99.5%</th>\n",
       "      <th>100%</th>\n",
       "    </tr>\n",
       "  </thead>\n",
       "  <tbody>\n",
       "    <tr>\n",
       "      <th>winners_speed</th>\n",
       "      <td>16.180121</td>\n",
       "      <td>0.305606</td>\n",
       "      <td>12.390395</td>\n",
       "      <td>14.632238</td>\n",
       "      <td>16.595424</td>\n",
       "      <td>17.630223</td>\n",
       "      <td>19.120459</td>\n",
       "      <td>150.273224</td>\n",
       "    </tr>\n",
       "    <tr>\n",
       "      <th>log_winners_speed</th>\n",
       "      <td>2.777350</td>\n",
       "      <td>-1.185457</td>\n",
       "      <td>2.516922</td>\n",
       "      <td>2.683227</td>\n",
       "      <td>2.809127</td>\n",
       "      <td>2.869615</td>\n",
       "      <td>2.950759</td>\n",
       "      <td>5.012455</td>\n",
       "    </tr>\n",
       "  </tbody>\n",
       "</table>\n",
       "</div>"
      ],
      "text/plain": [
       "                        mean        0%       0.5%        25%        50%  \\\n",
       "winners_speed      16.180121  0.305606  12.390395  14.632238  16.595424   \n",
       "log_winners_speed   2.777350 -1.185457   2.516922   2.683227   2.809127   \n",
       "\n",
       "                         75%      99.5%        100%  \n",
       "winners_speed      17.630223  19.120459  150.273224  \n",
       "log_winners_speed   2.869615   2.950759    5.012455  "
      ]
     },
     "execution_count": 17,
     "metadata": {},
     "output_type": "execute_result"
    }
   ],
   "source": [
    "race_data['winners_speed'] = race_data['distance_yards']/(race_data['winning_time_secs'])\n",
    "race_data['log_winners_speed'] = np.log(race_data['winners_speed'])\n",
    "race_data[['winners_speed', 'log_winners_speed']].describe(percentiles=percentiles).T[cols_to_keep]"
   ]
  },
  {
   "cell_type": "code",
   "execution_count": null,
   "metadata": {
    "execution": {
     "iopub.execute_input": "2025-08-31T10:15:55.976715Z",
     "iopub.status.busy": "2025-08-31T10:15:55.976358Z",
     "iopub.status.idle": "2025-08-31T10:15:56.071616Z",
     "shell.execute_reply": "2025-08-31T10:15:56.070696Z",
     "shell.execute_reply.started": "2025-08-31T10:15:55.976685Z"
    },
    "id": "IzeZ5KtCoQsE"
   },
   "outputs": [],
   "source": [
    "race_data = race_data[(race_data['winners_speed']>10) & (race_data['winners_speed']<20)]"
   ]
  },
  {
   "cell_type": "code",
   "execution_count": null,
   "metadata": {
    "execution": {
     "iopub.execute_input": "2025-08-31T10:15:56.072896Z",
     "iopub.status.busy": "2025-08-31T10:15:56.072528Z",
     "iopub.status.idle": "2025-08-31T10:15:56.398582Z",
     "shell.execute_reply": "2025-08-31T10:15:56.397535Z",
     "shell.execute_reply.started": "2025-08-31T10:15:56.072849Z"
    },
    "id": "J_c5gbOdoQsE",
    "outputId": "d526f673-e53e-4574-8a20-b98fc2cd4b53"
   },
   "outputs": [
    {
     "data": {
      "image/png": "[encoded data removed]",
      "text/plain": [
       "<Figure size 640x480 with 1 Axes>"
      ]
     },
     "metadata": {},
     "output_type": "display_data"
    }
   ],
   "source": [
    "race_data['winners_speed'].plot.hist(\n",
    "    bins = 100,\n",
    "    xlabel=\"Winner's speed in yards second$^{-1}$\",\n",
    "    ylabel=\"Density\",\n",
    "    #title=\"Distribution of Winner's finish time\",\n",
    "    density=True\n",
    ")\n",
    "plt.show()"
   ]
  },
  {
   "cell_type": "code",
   "execution_count": null,
   "metadata": {
    "execution": {
     "iopub.execute_input": "2025-08-31T10:15:56.40079Z",
     "iopub.status.busy": "2025-08-31T10:15:56.400461Z",
     "iopub.status.idle": "2025-08-31T10:15:58.297387Z",
     "shell.execute_reply": "2025-08-31T10:15:58.296059Z",
     "shell.execute_reply.started": "2025-08-31T10:15:56.400768Z"
    },
    "id": "HnmuK-MaoQsF",
    "outputId": "b75d23a0-d98b-4ed2-a609-9cf74d9ff98b"
   },
   "outputs": [
    {
     "data": {
      "image/png": "[encoded data removed]",
      "text/plain": [
       "<Figure size 1000x500 with 5 Axes>"
      ]
     },
     "metadata": {},
     "output_type": "display_data"
    }
   ],
   "source": [
    "ax = race_data.plot.hist(\n",
    "    column='winners_speed',\n",
    "    bins = 100,\n",
    "    by=\"race_type\",\n",
    "    ylabel=\"Winner's speed in yards second$^{-1}$\",\n",
    "    xlabel=\"Density\",\n",
    "    #title=\"Distribution of Winner's finish time conditioned on Race Type\",\n",
    "    density=True,\n",
    "    figsize=(10,5),\n",
    "    legend=False,\n",
    "    layout=(1, 5),\n",
    "    orientation='horizontal',\n",
    "    sharey=True,\n",
    "    xlim=(0,0.75)\n",
    ")\n",
    "plt.tight_layout()\n",
    "plt.show()"
   ]
  },
  {
   "cell_type": "code",
   "execution_count": null,
   "metadata": {
    "execution": {
     "iopub.execute_input": "2025-08-31T10:15:58.299452Z",
     "iopub.status.busy": "2025-08-31T10:15:58.298922Z",
     "iopub.status.idle": "2025-08-31T10:15:58.789268Z",
     "shell.execute_reply": "2025-08-31T10:15:58.788075Z",
     "shell.execute_reply.started": "2025-08-31T10:15:58.299416Z"
    },
    "id": "29EbNnhOoQsF",
    "outputId": "213359a4-649b-4407-f71d-429681ea167d"
   },
   "outputs": [
    {
     "name": "stderr",
     "output_type": "stream",
     "text": [
      "/tmp/ipykernel_163/954717267.py:8: DeprecationWarning: DataFrameGroupBy.apply operated on the grouping columns. This behavior is deprecated, and in a future version of pandas the grouping columns will be excluded from the operation. Either pass `include_groups=False` to exclude the groupings or explicitly select the grouping columns after groupby to silence this warning.\n",
      "  ] = race_data.groupby(cond_var).apply(\n",
      "/tmp/ipykernel_163/954717267.py:13: DeprecationWarning: DataFrameGroupBy.apply operated on the grouping columns. This behavior is deprecated, and in a future version of pandas the grouping columns will be excluded from the operation. Either pass `include_groups=False` to exclude the groupings or explicitly select the grouping columns after groupby to silence this warning.\n",
      "  ] = race_data.groupby(cond_var).apply(\n",
      "/tmp/ipykernel_163/954717267.py:18: DeprecationWarning: DataFrameGroupBy.apply operated on the grouping columns. This behavior is deprecated, and in a future version of pandas the grouping columns will be excluded from the operation. Either pass `include_groups=False` to exclude the groupings or explicitly select the grouping columns after groupby to silence this warning.\n",
      "  ] = race_data.groupby(cond_var).apply(\n",
      "/tmp/ipykernel_163/954717267.py:23: DeprecationWarning: DataFrameGroupBy.apply operated on the grouping columns. This behavior is deprecated, and in a future version of pandas the grouping columns will be excluded from the operation. Either pass `include_groups=False` to exclude the groupings or explicitly select the grouping columns after groupby to silence this warning.\n",
      "  ] = race_data.groupby(cond_var).apply(\n"
     ]
    },
    {
     "data": {
      "text/html": [
       "<div>\n",
       "<style scoped>\n",
       "    .dataframe tbody tr th:only-of-type {\n",
       "        vertical-align: middle;\n",
       "    }\n",
       "\n",
       "    .dataframe tbody tr th {\n",
       "        vertical-align: top;\n",
       "    }\n",
       "\n",
       "    .dataframe thead th {\n",
       "        text-align: right;\n",
       "    }\n",
       "</style>\n",
       "<table border=\"1\" class=\"dataframe\">\n",
       "  <thead>\n",
       "    <tr style=\"text-align: right;\">\n",
       "      <th></th>\n",
       "      <th>Estimate</th>\n",
       "      <th>p-value</th>\n",
       "      <th>Lower 2.5% CI Bound</th>\n",
       "      <th>Upper 97.5% CI Bound</th>\n",
       "    </tr>\n",
       "    <tr>\n",
       "      <th>Race Type</th>\n",
       "      <th></th>\n",
       "      <th></th>\n",
       "      <th></th>\n",
       "      <th></th>\n",
       "    </tr>\n",
       "  </thead>\n",
       "  <tbody>\n",
       "    <tr>\n",
       "      <th>All Weather Flat</th>\n",
       "      <td>-0.658518</td>\n",
       "      <td>0.00000</td>\n",
       "      <td>-0.663264</td>\n",
       "      <td>-0.653720</td>\n",
       "    </tr>\n",
       "    <tr>\n",
       "      <th>Chase</th>\n",
       "      <td>-0.221997</td>\n",
       "      <td>0.00000</td>\n",
       "      <td>-0.231399</td>\n",
       "      <td>-0.212553</td>\n",
       "    </tr>\n",
       "    <tr>\n",
       "      <th>Flat</th>\n",
       "      <td>-0.586648</td>\n",
       "      <td>0.00000</td>\n",
       "      <td>-0.590670</td>\n",
       "      <td>-0.582598</td>\n",
       "    </tr>\n",
       "    <tr>\n",
       "      <th>Hurdle</th>\n",
       "      <td>-0.173669</td>\n",
       "      <td>0.00000</td>\n",
       "      <td>-0.181551</td>\n",
       "      <td>-0.165764</td>\n",
       "    </tr>\n",
       "    <tr>\n",
       "      <th>National Hunt Flat</th>\n",
       "      <td>0.010010</td>\n",
       "      <td>0.31361</td>\n",
       "      <td>-0.009460</td>\n",
       "      <td>0.029472</td>\n",
       "    </tr>\n",
       "  </tbody>\n",
       "</table>\n",
       "</div>"
      ],
      "text/plain": [
       "                    Estimate  p-value  Lower 2.5% CI Bound  \\\n",
       "Race Type                                                    \n",
       "All Weather Flat   -0.658518  0.00000            -0.663264   \n",
       "Chase              -0.221997  0.00000            -0.231399   \n",
       "Flat               -0.586648  0.00000            -0.590670   \n",
       "Hurdle             -0.173669  0.00000            -0.181551   \n",
       "National Hunt Flat  0.010010  0.31361            -0.009460   \n",
       "\n",
       "                    Upper 97.5% CI Bound  \n",
       "Race Type                                 \n",
       "All Weather Flat               -0.653720  \n",
       "Chase                          -0.212553  \n",
       "Flat                           -0.582598  \n",
       "Hurdle                         -0.165764  \n",
       "National Hunt Flat              0.029472  "
      ]
     },
     "execution_count": 21,
     "metadata": {},
     "output_type": "execute_result"
    }
   ],
   "source": [
    "get_conditional_correlation_df(race_data, \"log_distance_yards\", \"log_winners_speed\", \"race_type\", \"Race Type\")#.to_latex(float_format=\"{:.2f}\".format).replace(\"%\",\"\\%\"))"
   ]
  },
  {
   "cell_type": "code",
   "execution_count": null,
   "metadata": {
    "execution": {
     "iopub.execute_input": "2025-08-31T10:15:58.790329Z",
     "iopub.status.busy": "2025-08-31T10:15:58.790024Z",
     "iopub.status.idle": "2025-08-31T10:15:58.806826Z",
     "shell.execute_reply": "2025-08-31T10:15:58.805231Z",
     "shell.execute_reply.started": "2025-08-31T10:15:58.790306Z"
    },
    "id": "RCWX7RCpoQsG",
    "outputId": "d23912c1-234d-4569-abd2-ee772f54b9c3"
   },
   "outputs": [
    {
     "data": {
      "text/plain": [
       "PearsonRResult(statistic=-0.8662053351093485, pvalue=0.0)"
      ]
     },
     "execution_count": 22,
     "metadata": {},
     "output_type": "execute_result"
    }
   ],
   "source": [
    "scipy.stats.pearsonr(race_data['log_distance_yards'].values, race_data['log_winners_speed'].values)"
   ]
  },
  {
   "cell_type": "code",
   "execution_count": null,
   "metadata": {
    "execution": {
     "iopub.execute_input": "2025-08-31T10:15:58.808519Z",
     "iopub.status.busy": "2025-08-31T10:15:58.808117Z",
     "iopub.status.idle": "2025-08-31T10:15:59.310951Z",
     "shell.execute_reply": "2025-08-31T10:15:59.30967Z",
     "shell.execute_reply.started": "2025-08-31T10:15:58.808487Z"
    },
    "id": "aGPq9e0zoQsG",
    "outputId": "d220062b-ecb9-439b-c336-c8724326f145"
   },
   "outputs": [
    {
     "name": "stderr",
     "output_type": "stream",
     "text": [
      "/tmp/ipykernel_163/954717267.py:8: DeprecationWarning: DataFrameGroupBy.apply operated on the grouping columns. This behavior is deprecated, and in a future version of pandas the grouping columns will be excluded from the operation. Either pass `include_groups=False` to exclude the groupings or explicitly select the grouping columns after groupby to silence this warning.\n",
      "  ] = race_data.groupby(cond_var).apply(\n",
      "/tmp/ipykernel_163/954717267.py:13: DeprecationWarning: DataFrameGroupBy.apply operated on the grouping columns. This behavior is deprecated, and in a future version of pandas the grouping columns will be excluded from the operation. Either pass `include_groups=False` to exclude the groupings or explicitly select the grouping columns after groupby to silence this warning.\n",
      "  ] = race_data.groupby(cond_var).apply(\n",
      "/tmp/ipykernel_163/954717267.py:18: DeprecationWarning: DataFrameGroupBy.apply operated on the grouping columns. This behavior is deprecated, and in a future version of pandas the grouping columns will be excluded from the operation. Either pass `include_groups=False` to exclude the groupings or explicitly select the grouping columns after groupby to silence this warning.\n",
      "  ] = race_data.groupby(cond_var).apply(\n",
      "/tmp/ipykernel_163/954717267.py:23: DeprecationWarning: DataFrameGroupBy.apply operated on the grouping columns. This behavior is deprecated, and in a future version of pandas the grouping columns will be excluded from the operation. Either pass `include_groups=False` to exclude the groupings or explicitly select the grouping columns after groupby to silence this warning.\n",
      "  ] = race_data.groupby(cond_var).apply(\n"
     ]
    },
    {
     "data": {
      "text/html": [
       "<div>\n",
       "<style scoped>\n",
       "    .dataframe tbody tr th:only-of-type {\n",
       "        vertical-align: middle;\n",
       "    }\n",
       "\n",
       "    .dataframe tbody tr th {\n",
       "        vertical-align: top;\n",
       "    }\n",
       "\n",
       "    .dataframe thead th {\n",
       "        text-align: right;\n",
       "    }\n",
       "</style>\n",
       "<table border=\"1\" class=\"dataframe\">\n",
       "  <thead>\n",
       "    <tr style=\"text-align: right;\">\n",
       "      <th></th>\n",
       "      <th>Estimate</th>\n",
       "      <th>p-value</th>\n",
       "      <th>Lower 2.5% CI Bound</th>\n",
       "      <th>Upper 97.5% CI Bound</th>\n",
       "    </tr>\n",
       "    <tr>\n",
       "      <th>Race Type</th>\n",
       "      <th></th>\n",
       "      <th></th>\n",
       "      <th></th>\n",
       "      <th></th>\n",
       "    </tr>\n",
       "  </thead>\n",
       "  <tbody>\n",
       "    <tr>\n",
       "      <th>All Weather Flat</th>\n",
       "      <td>0.219501</td>\n",
       "      <td>0.00000</td>\n",
       "      <td>0.211467</td>\n",
       "      <td>0.227505</td>\n",
       "    </tr>\n",
       "    <tr>\n",
       "      <th>Chase</th>\n",
       "      <td>0.033671</td>\n",
       "      <td>0.00000</td>\n",
       "      <td>0.023768</td>\n",
       "      <td>0.043568</td>\n",
       "    </tr>\n",
       "    <tr>\n",
       "      <th>Flat</th>\n",
       "      <td>0.049052</td>\n",
       "      <td>0.00000</td>\n",
       "      <td>0.042911</td>\n",
       "      <td>0.055188</td>\n",
       "    </tr>\n",
       "    <tr>\n",
       "      <th>Hurdle</th>\n",
       "      <td>-0.003760</td>\n",
       "      <td>0.36529</td>\n",
       "      <td>-0.011899</td>\n",
       "      <td>0.004380</td>\n",
       "    </tr>\n",
       "    <tr>\n",
       "      <th>National Hunt Flat</th>\n",
       "      <td>-0.099569</td>\n",
       "      <td>0.00000</td>\n",
       "      <td>-0.118807</td>\n",
       "      <td>-0.080257</td>\n",
       "    </tr>\n",
       "  </tbody>\n",
       "</table>\n",
       "</div>"
      ],
      "text/plain": [
       "                    Estimate  p-value  Lower 2.5% CI Bound  \\\n",
       "Race Type                                                    \n",
       "All Weather Flat    0.219501  0.00000             0.211467   \n",
       "Chase               0.033671  0.00000             0.023768   \n",
       "Flat                0.049052  0.00000             0.042911   \n",
       "Hurdle             -0.003760  0.36529            -0.011899   \n",
       "National Hunt Flat -0.099569  0.00000            -0.118807   \n",
       "\n",
       "                    Upper 97.5% CI Bound  \n",
       "Race Type                                 \n",
       "All Weather Flat                0.227505  \n",
       "Chase                           0.043568  \n",
       "Flat                            0.055188  \n",
       "Hurdle                          0.004380  \n",
       "National Hunt Flat             -0.080257  "
      ]
     },
     "execution_count": 23,
     "metadata": {},
     "output_type": "execute_result"
    }
   ],
   "source": [
    "get_conditional_correlation_df(race_data, \"log_added_money\", \"log_winners_speed\", \"race_type\", \"Race Type\")#.to_latex(float_format=\"{:.2f}\".format).replace(\"%\",\"\\%\"))"
   ]
  },
  {
   "cell_type": "code",
   "execution_count": null,
   "metadata": {
    "execution": {
     "iopub.execute_input": "2025-08-31T10:15:59.312541Z",
     "iopub.status.busy": "2025-08-31T10:15:59.312221Z",
     "iopub.status.idle": "2025-08-31T10:15:59.328434Z",
     "shell.execute_reply": "2025-08-31T10:15:59.327527Z",
     "shell.execute_reply.started": "2025-08-31T10:15:59.312512Z"
    },
    "id": "RVCZPvaGoQsH",
    "outputId": "b55c1577-fe31-4d22-9162-dcc776789676"
   },
   "outputs": [
    {
     "data": {
      "text/plain": [
       "PearsonRResult(statistic=-0.02944228996466881, pvalue=1.7045558239299492e-51)"
      ]
     },
     "execution_count": 24,
     "metadata": {},
     "output_type": "execute_result"
    }
   ],
   "source": [
    "scipy.stats.pearsonr(race_data['log_added_money'].values, race_data['log_winners_speed'].values)"
   ]
  },
  {
   "cell_type": "code",
   "execution_count": null,
   "metadata": {
    "execution": {
     "iopub.execute_input": "2025-08-31T10:15:59.329888Z",
     "iopub.status.busy": "2025-08-31T10:15:59.329539Z",
     "iopub.status.idle": "2025-08-31T10:15:59.809443Z",
     "shell.execute_reply": "2025-08-31T10:15:59.808379Z",
     "shell.execute_reply.started": "2025-08-31T10:15:59.329858Z"
    },
    "id": "h8kdiMruoQsH",
    "outputId": "4106cde3-f9ea-478a-e6fa-4e67c7848c78"
   },
   "outputs": [
    {
     "name": "stderr",
     "output_type": "stream",
     "text": [
      "/tmp/ipykernel_163/954717267.py:8: DeprecationWarning: DataFrameGroupBy.apply operated on the grouping columns. This behavior is deprecated, and in a future version of pandas the grouping columns will be excluded from the operation. Either pass `include_groups=False` to exclude the groupings or explicitly select the grouping columns after groupby to silence this warning.\n",
      "  ] = race_data.groupby(cond_var).apply(\n",
      "/tmp/ipykernel_163/954717267.py:13: DeprecationWarning: DataFrameGroupBy.apply operated on the grouping columns. This behavior is deprecated, and in a future version of pandas the grouping columns will be excluded from the operation. Either pass `include_groups=False` to exclude the groupings or explicitly select the grouping columns after groupby to silence this warning.\n",
      "  ] = race_data.groupby(cond_var).apply(\n",
      "/tmp/ipykernel_163/954717267.py:18: DeprecationWarning: DataFrameGroupBy.apply operated on the grouping columns. This behavior is deprecated, and in a future version of pandas the grouping columns will be excluded from the operation. Either pass `include_groups=False` to exclude the groupings or explicitly select the grouping columns after groupby to silence this warning.\n",
      "  ] = race_data.groupby(cond_var).apply(\n",
      "/tmp/ipykernel_163/954717267.py:23: DeprecationWarning: DataFrameGroupBy.apply operated on the grouping columns. This behavior is deprecated, and in a future version of pandas the grouping columns will be excluded from the operation. Either pass `include_groups=False` to exclude the groupings or explicitly select the grouping columns after groupby to silence this warning.\n",
      "  ] = race_data.groupby(cond_var).apply(\n"
     ]
    },
    {
     "data": {
      "text/html": [
       "<div>\n",
       "<style scoped>\n",
       "    .dataframe tbody tr th:only-of-type {\n",
       "        vertical-align: middle;\n",
       "    }\n",
       "\n",
       "    .dataframe tbody tr th {\n",
       "        vertical-align: top;\n",
       "    }\n",
       "\n",
       "    .dataframe thead th {\n",
       "        text-align: right;\n",
       "    }\n",
       "</style>\n",
       "<table border=\"1\" class=\"dataframe\">\n",
       "  <thead>\n",
       "    <tr style=\"text-align: right;\">\n",
       "      <th></th>\n",
       "      <th>Estimate</th>\n",
       "      <th>p-value</th>\n",
       "      <th>Lower 2.5% CI Bound</th>\n",
       "      <th>Upper 97.5% CI Bound</th>\n",
       "    </tr>\n",
       "    <tr>\n",
       "      <th>Race Type</th>\n",
       "      <th></th>\n",
       "      <th></th>\n",
       "      <th></th>\n",
       "      <th></th>\n",
       "    </tr>\n",
       "  </thead>\n",
       "  <tbody>\n",
       "    <tr>\n",
       "      <th>Fast</th>\n",
       "      <td>-0.967524</td>\n",
       "      <td>0.00156</td>\n",
       "      <td>-0.996572</td>\n",
       "      <td>-0.726104</td>\n",
       "    </tr>\n",
       "    <tr>\n",
       "      <th>Firm</th>\n",
       "      <td>-0.844212</td>\n",
       "      <td>0.00000</td>\n",
       "      <td>-0.852639</td>\n",
       "      <td>-0.835345</td>\n",
       "    </tr>\n",
       "    <tr>\n",
       "      <th>Good</th>\n",
       "      <td>-0.898461</td>\n",
       "      <td>0.00000</td>\n",
       "      <td>-0.899913</td>\n",
       "      <td>-0.896989</td>\n",
       "    </tr>\n",
       "    <tr>\n",
       "      <th>Good - Firm</th>\n",
       "      <td>-0.953659</td>\n",
       "      <td>0.00000</td>\n",
       "      <td>-0.982906</td>\n",
       "      <td>-0.877470</td>\n",
       "    </tr>\n",
       "    <tr>\n",
       "      <th>Good - Yielding</th>\n",
       "      <td>-0.884573</td>\n",
       "      <td>0.00000</td>\n",
       "      <td>-0.893889</td>\n",
       "      <td>-0.874492</td>\n",
       "    </tr>\n",
       "    <tr>\n",
       "      <th>Good to Firm</th>\n",
       "      <td>-0.868919</td>\n",
       "      <td>0.00000</td>\n",
       "      <td>-0.871206</td>\n",
       "      <td>-0.866595</td>\n",
       "    </tr>\n",
       "    <tr>\n",
       "      <th>Good to Soft</th>\n",
       "      <td>-0.894669</td>\n",
       "      <td>0.00000</td>\n",
       "      <td>-0.896859</td>\n",
       "      <td>-0.892435</td>\n",
       "    </tr>\n",
       "    <tr>\n",
       "      <th>Hard</th>\n",
       "      <td>-0.010205</td>\n",
       "      <td>0.98268</td>\n",
       "      <td>-0.757442</td>\n",
       "      <td>0.748606</td>\n",
       "    </tr>\n",
       "    <tr>\n",
       "      <th>Heavy</th>\n",
       "      <td>-0.842827</td>\n",
       "      <td>0.00000</td>\n",
       "      <td>-0.847202</td>\n",
       "      <td>-0.838337</td>\n",
       "    </tr>\n",
       "    <tr>\n",
       "      <th>Slow</th>\n",
       "      <td>-0.930410</td>\n",
       "      <td>0.00000</td>\n",
       "      <td>-0.962854</td>\n",
       "      <td>-0.871485</td>\n",
       "    </tr>\n",
       "    <tr>\n",
       "      <th>Soft</th>\n",
       "      <td>-0.886398</td>\n",
       "      <td>0.00000</td>\n",
       "      <td>-0.888587</td>\n",
       "      <td>-0.884170</td>\n",
       "    </tr>\n",
       "    <tr>\n",
       "      <th>Soft - Heavy</th>\n",
       "      <td>-0.855585</td>\n",
       "      <td>0.00000</td>\n",
       "      <td>-0.868568</td>\n",
       "      <td>-0.841428</td>\n",
       "    </tr>\n",
       "    <tr>\n",
       "      <th>Standard</th>\n",
       "      <td>-0.668492</td>\n",
       "      <td>0.00000</td>\n",
       "      <td>-0.673113</td>\n",
       "      <td>-0.663818</td>\n",
       "    </tr>\n",
       "    <tr>\n",
       "      <th>Standard to Fast</th>\n",
       "      <td>-0.671704</td>\n",
       "      <td>0.06811</td>\n",
       "      <td>-0.934194</td>\n",
       "      <td>0.062599</td>\n",
       "    </tr>\n",
       "    <tr>\n",
       "      <th>Standard to Slow</th>\n",
       "      <td>-0.617728</td>\n",
       "      <td>0.00000</td>\n",
       "      <td>-0.765888</td>\n",
       "      <td>-0.407277</td>\n",
       "    </tr>\n",
       "    <tr>\n",
       "      <th>Yielding</th>\n",
       "      <td>-0.890542</td>\n",
       "      <td>0.00000</td>\n",
       "      <td>-0.896137</td>\n",
       "      <td>-0.884664</td>\n",
       "    </tr>\n",
       "    <tr>\n",
       "      <th>Yielding - Soft</th>\n",
       "      <td>-0.890983</td>\n",
       "      <td>0.00000</td>\n",
       "      <td>-0.902763</td>\n",
       "      <td>-0.877866</td>\n",
       "    </tr>\n",
       "  </tbody>\n",
       "</table>\n",
       "</div>"
      ],
      "text/plain": [
       "                  Estimate  p-value  Lower 2.5% CI Bound  Upper 97.5% CI Bound\n",
       "Race Type                                                                     \n",
       "Fast             -0.967524  0.00156            -0.996572             -0.726104\n",
       "Firm             -0.844212  0.00000            -0.852639             -0.835345\n",
       "Good             -0.898461  0.00000            -0.899913             -0.896989\n",
       "Good - Firm      -0.953659  0.00000            -0.982906             -0.877470\n",
       "Good - Yielding  -0.884573  0.00000            -0.893889             -0.874492\n",
       "Good to Firm     -0.868919  0.00000            -0.871206             -0.866595\n",
       "Good to Soft     -0.894669  0.00000            -0.896859             -0.892435\n",
       "Hard             -0.010205  0.98268            -0.757442              0.748606\n",
       "Heavy            -0.842827  0.00000            -0.847202             -0.838337\n",
       "Slow             -0.930410  0.00000            -0.962854             -0.871485\n",
       "Soft             -0.886398  0.00000            -0.888587             -0.884170\n",
       "Soft - Heavy     -0.855585  0.00000            -0.868568             -0.841428\n",
       "Standard         -0.668492  0.00000            -0.673113             -0.663818\n",
       "Standard to Fast -0.671704  0.06811            -0.934194              0.062599\n",
       "Standard to Slow -0.617728  0.00000            -0.765888             -0.407277\n",
       "Yielding         -0.890542  0.00000            -0.896137             -0.884664\n",
       "Yielding - Soft  -0.890983  0.00000            -0.902763             -0.877866"
      ]
     },
     "execution_count": 25,
     "metadata": {},
     "output_type": "execute_result"
    }
   ],
   "source": [
    "get_conditional_correlation_df(race_data, \"log_distance_yards\", \"log_winners_speed\", \"race_going_condition\", \"Race Type\")"
   ]
  },
  {
   "cell_type": "code",
   "execution_count": null,
   "metadata": {
    "execution": {
     "iopub.execute_input": "2025-08-31T10:15:59.811109Z",
     "iopub.status.busy": "2025-08-31T10:15:59.810757Z",
     "iopub.status.idle": "2025-08-31T10:16:00.286455Z",
     "shell.execute_reply": "2025-08-31T10:16:00.28523Z",
     "shell.execute_reply.started": "2025-08-31T10:15:59.811078Z"
    },
    "id": "hPcj1Q6voQsH",
    "outputId": "b38e5976-c643-4f1f-9ce8-9e8aa565f5b0"
   },
   "outputs": [
    {
     "name": "stderr",
     "output_type": "stream",
     "text": [
      "/tmp/ipykernel_163/954717267.py:8: DeprecationWarning: DataFrameGroupBy.apply operated on the grouping columns. This behavior is deprecated, and in a future version of pandas the grouping columns will be excluded from the operation. Either pass `include_groups=False` to exclude the groupings or explicitly select the grouping columns after groupby to silence this warning.\n",
      "  ] = race_data.groupby(cond_var).apply(\n",
      "/tmp/ipykernel_163/954717267.py:13: DeprecationWarning: DataFrameGroupBy.apply operated on the grouping columns. This behavior is deprecated, and in a future version of pandas the grouping columns will be excluded from the operation. Either pass `include_groups=False` to exclude the groupings or explicitly select the grouping columns after groupby to silence this warning.\n",
      "  ] = race_data.groupby(cond_var).apply(\n",
      "/tmp/ipykernel_163/954717267.py:18: DeprecationWarning: DataFrameGroupBy.apply operated on the grouping columns. This behavior is deprecated, and in a future version of pandas the grouping columns will be excluded from the operation. Either pass `include_groups=False` to exclude the groupings or explicitly select the grouping columns after groupby to silence this warning.\n",
      "  ] = race_data.groupby(cond_var).apply(\n",
      "/tmp/ipykernel_163/954717267.py:23: DeprecationWarning: DataFrameGroupBy.apply operated on the grouping columns. This behavior is deprecated, and in a future version of pandas the grouping columns will be excluded from the operation. Either pass `include_groups=False` to exclude the groupings or explicitly select the grouping columns after groupby to silence this warning.\n",
      "  ] = race_data.groupby(cond_var).apply(\n"
     ]
    },
    {
     "data": {
      "text/html": [
       "<div>\n",
       "<style scoped>\n",
       "    .dataframe tbody tr th:only-of-type {\n",
       "        vertical-align: middle;\n",
       "    }\n",
       "\n",
       "    .dataframe tbody tr th {\n",
       "        vertical-align: top;\n",
       "    }\n",
       "\n",
       "    .dataframe thead th {\n",
       "        text-align: right;\n",
       "    }\n",
       "</style>\n",
       "<table border=\"1\" class=\"dataframe\">\n",
       "  <thead>\n",
       "    <tr style=\"text-align: right;\">\n",
       "      <th></th>\n",
       "      <th>Estimate</th>\n",
       "      <th>p-value</th>\n",
       "      <th>Lower 2.5% CI Bound</th>\n",
       "      <th>Upper 97.5% CI Bound</th>\n",
       "    </tr>\n",
       "    <tr>\n",
       "      <th>Race Type</th>\n",
       "      <th></th>\n",
       "      <th></th>\n",
       "      <th></th>\n",
       "      <th></th>\n",
       "    </tr>\n",
       "  </thead>\n",
       "  <tbody>\n",
       "    <tr>\n",
       "      <th>Fast</th>\n",
       "      <td>0.314169</td>\n",
       "      <td>0.54425</td>\n",
       "      <td>-0.667612</td>\n",
       "      <td>0.897019</td>\n",
       "    </tr>\n",
       "    <tr>\n",
       "      <th>Firm</th>\n",
       "      <td>-0.073381</td>\n",
       "      <td>0.00000</td>\n",
       "      <td>-0.103230</td>\n",
       "      <td>-0.043400</td>\n",
       "    </tr>\n",
       "    <tr>\n",
       "      <th>Good</th>\n",
       "      <td>0.151529</td>\n",
       "      <td>0.00000</td>\n",
       "      <td>0.144111</td>\n",
       "      <td>0.158931</td>\n",
       "    </tr>\n",
       "    <tr>\n",
       "      <th>Good - Firm</th>\n",
       "      <td>-0.393729</td>\n",
       "      <td>0.10596</td>\n",
       "      <td>-0.726968</td>\n",
       "      <td>0.089614</td>\n",
       "    </tr>\n",
       "    <tr>\n",
       "      <th>Good - Yielding</th>\n",
       "      <td>0.192299</td>\n",
       "      <td>0.00000</td>\n",
       "      <td>0.149060</td>\n",
       "      <td>0.234804</td>\n",
       "    </tr>\n",
       "    <tr>\n",
       "      <th>Good to Firm</th>\n",
       "      <td>0.194696</td>\n",
       "      <td>0.00000</td>\n",
       "      <td>0.185627</td>\n",
       "      <td>0.203732</td>\n",
       "    </tr>\n",
       "    <tr>\n",
       "      <th>Good to Soft</th>\n",
       "      <td>0.083849</td>\n",
       "      <td>0.00000</td>\n",
       "      <td>0.072835</td>\n",
       "      <td>0.094843</td>\n",
       "    </tr>\n",
       "    <tr>\n",
       "      <th>Hard</th>\n",
       "      <td>0.351777</td>\n",
       "      <td>0.43906</td>\n",
       "      <td>-0.545893</td>\n",
       "      <td>0.873451</td>\n",
       "    </tr>\n",
       "    <tr>\n",
       "      <th>Heavy</th>\n",
       "      <td>0.078349</td>\n",
       "      <td>0.00000</td>\n",
       "      <td>0.063125</td>\n",
       "      <td>0.093537</td>\n",
       "    </tr>\n",
       "    <tr>\n",
       "      <th>Slow</th>\n",
       "      <td>-0.328114</td>\n",
       "      <td>0.03874</td>\n",
       "      <td>-0.580310</td>\n",
       "      <td>-0.018495</td>\n",
       "    </tr>\n",
       "    <tr>\n",
       "      <th>Soft</th>\n",
       "      <td>0.073508</td>\n",
       "      <td>0.00000</td>\n",
       "      <td>0.063252</td>\n",
       "      <td>0.083749</td>\n",
       "    </tr>\n",
       "    <tr>\n",
       "      <th>Soft - Heavy</th>\n",
       "      <td>0.121582</td>\n",
       "      <td>0.00000</td>\n",
       "      <td>0.071475</td>\n",
       "      <td>0.171077</td>\n",
       "    </tr>\n",
       "    <tr>\n",
       "      <th>Standard</th>\n",
       "      <td>0.213276</td>\n",
       "      <td>0.00000</td>\n",
       "      <td>0.205241</td>\n",
       "      <td>0.221282</td>\n",
       "    </tr>\n",
       "    <tr>\n",
       "      <th>Standard to Fast</th>\n",
       "      <td>0.051059</td>\n",
       "      <td>0.90443</td>\n",
       "      <td>-0.678008</td>\n",
       "      <td>0.729485</td>\n",
       "    </tr>\n",
       "    <tr>\n",
       "      <th>Standard to Slow</th>\n",
       "      <td>-0.093542</td>\n",
       "      <td>0.52263</td>\n",
       "      <td>-0.365134</td>\n",
       "      <td>0.192724</td>\n",
       "    </tr>\n",
       "    <tr>\n",
       "      <th>Yielding</th>\n",
       "      <td>0.124141</td>\n",
       "      <td>0.00000</td>\n",
       "      <td>0.096769</td>\n",
       "      <td>0.151326</td>\n",
       "    </tr>\n",
       "    <tr>\n",
       "      <th>Yielding - Soft</th>\n",
       "      <td>0.135457</td>\n",
       "      <td>0.00001</td>\n",
       "      <td>0.075863</td>\n",
       "      <td>0.194086</td>\n",
       "    </tr>\n",
       "  </tbody>\n",
       "</table>\n",
       "</div>"
      ],
      "text/plain": [
       "                  Estimate  p-value  Lower 2.5% CI Bound  Upper 97.5% CI Bound\n",
       "Race Type                                                                     \n",
       "Fast              0.314169  0.54425            -0.667612              0.897019\n",
       "Firm             -0.073381  0.00000            -0.103230             -0.043400\n",
       "Good              0.151529  0.00000             0.144111              0.158931\n",
       "Good - Firm      -0.393729  0.10596            -0.726968              0.089614\n",
       "Good - Yielding   0.192299  0.00000             0.149060              0.234804\n",
       "Good to Firm      0.194696  0.00000             0.185627              0.203732\n",
       "Good to Soft      0.083849  0.00000             0.072835              0.094843\n",
       "Hard              0.351777  0.43906            -0.545893              0.873451\n",
       "Heavy             0.078349  0.00000             0.063125              0.093537\n",
       "Slow             -0.328114  0.03874            -0.580310             -0.018495\n",
       "Soft              0.073508  0.00000             0.063252              0.083749\n",
       "Soft - Heavy      0.121582  0.00000             0.071475              0.171077\n",
       "Standard          0.213276  0.00000             0.205241              0.221282\n",
       "Standard to Fast  0.051059  0.90443            -0.678008              0.729485\n",
       "Standard to Slow -0.093542  0.52263            -0.365134              0.192724\n",
       "Yielding          0.124141  0.00000             0.096769              0.151326\n",
       "Yielding - Soft   0.135457  0.00001             0.075863              0.194086"
      ]
     },
     "execution_count": 26,
     "metadata": {},
     "output_type": "execute_result"
    }
   ],
   "source": [
    "get_conditional_correlation_df(race_data, \"log_added_money\", \"log_winners_speed\", \"race_going_condition\", \"Race Type\")"
   ]
  },
  {
   "cell_type": "markdown",
   "metadata": {
    "id": "stuj4khAoQsI"
   },
   "source": [
    "# Analysis of Horse/Runner Related Data"
   ]
  },
  {
   "cell_type": "code",
   "execution_count": null,
   "metadata": {
    "execution": {
     "iopub.execute_input": "2025-08-31T10:16:00.288232Z",
     "iopub.status.busy": "2025-08-31T10:16:00.287835Z",
     "iopub.status.idle": "2025-08-31T10:16:12.246589Z",
     "shell.execute_reply": "2025-08-31T10:16:12.245309Z",
     "shell.execute_reply.started": "2025-08-31T10:16:00.288196Z"
    },
    "id": "0DCTx8SkoQsI"
   },
   "outputs": [],
   "source": [
    "horse_sql_query = \"\"\"SELECT\n",
    "runner_id,\n",
    "race_id,\n",
    "gender as runner_gender,\n",
    "age as runner_age,\n",
    "bred as runner_breeding_country,\n",
    "distance_travelled,\n",
    "distance_behind_winner,\n",
    "finish_position\n",
    "FROM\n",
    "historic_runners\n",
    "\"\"\"\n",
    "horse_data = pd.read_sql(horse_sql_query, sqlite_connection)"
   ]
  },
  {
   "cell_type": "code",
   "execution_count": null,
   "metadata": {
    "execution": {
     "iopub.execute_input": "2025-08-31T10:16:12.248026Z",
     "iopub.status.busy": "2025-08-31T10:16:12.247726Z",
     "iopub.status.idle": "2025-08-31T10:16:12.770445Z",
     "shell.execute_reply": "2025-08-31T10:16:12.769345Z",
     "shell.execute_reply.started": "2025-08-31T10:16:12.248004Z"
    },
    "id": "OxV9nUAqoQsJ",
    "outputId": "24fe161d-6332-475b-fc53-22c65088242a"
   },
   "outputs": [
    {
     "name": "stdout",
     "output_type": "stream",
     "text": [
      "Number of races with 1 or 2 participants : 182\n"
     ]
    }
   ],
   "source": [
    "print(\n",
    "    f\"Number of races with 1 or 2 participants : {(horse_data.groupby('race_id')['runner_id'].nunique()<=2).sum()}\"\n",
    ")"
   ]
  },
  {
   "cell_type": "code",
   "execution_count": null,
   "metadata": {
    "execution": {
     "iopub.execute_input": "2025-08-31T10:16:12.776201Z",
     "iopub.status.busy": "2025-08-31T10:16:12.77584Z",
     "iopub.status.idle": "2025-08-31T10:16:12.920882Z",
     "shell.execute_reply": "2025-08-31T10:16:12.919952Z",
     "shell.execute_reply.started": "2025-08-31T10:16:12.776177Z"
    },
    "id": "HlpSvBhPoQsJ",
    "outputId": "a9e7dead-788b-4b77-e849-a39e9699751a"
   },
   "outputs": [
    {
     "data": {
      "text/html": [
       "<div>\n",
       "<style scoped>\n",
       "    .dataframe tbody tr th:only-of-type {\n",
       "        vertical-align: middle;\n",
       "    }\n",
       "\n",
       "    .dataframe tbody tr th {\n",
       "        vertical-align: top;\n",
       "    }\n",
       "\n",
       "    .dataframe thead th {\n",
       "        text-align: right;\n",
       "    }\n",
       "</style>\n",
       "<table border=\"1\" class=\"dataframe\">\n",
       "  <thead>\n",
       "    <tr style=\"text-align: right;\">\n",
       "      <th></th>\n",
       "      <th>count</th>\n",
       "    </tr>\n",
       "    <tr>\n",
       "      <th>runner_gender</th>\n",
       "      <th></th>\n",
       "    </tr>\n",
       "  </thead>\n",
       "  <tbody>\n",
       "    <tr>\n",
       "      <th>G</th>\n",
       "      <td>1528367</td>\n",
       "    </tr>\n",
       "    <tr>\n",
       "      <th>F</th>\n",
       "      <td>476070</td>\n",
       "    </tr>\n",
       "    <tr>\n",
       "      <th>M</th>\n",
       "      <td>281196</td>\n",
       "    </tr>\n",
       "    <tr>\n",
       "      <th>C</th>\n",
       "      <td>204765</td>\n",
       "    </tr>\n",
       "    <tr>\n",
       "      <th>H</th>\n",
       "      <td>16174</td>\n",
       "    </tr>\n",
       "    <tr>\n",
       "      <th>R</th>\n",
       "      <td>186</td>\n",
       "    </tr>\n",
       "  </tbody>\n",
       "</table>\n",
       "</div>"
      ],
      "text/plain": [
       "                 count\n",
       "runner_gender         \n",
       "G              1528367\n",
       "F               476070\n",
       "M               281196\n",
       "C               204765\n",
       "H                16174\n",
       "R                  186"
      ]
     },
     "execution_count": 29,
     "metadata": {},
     "output_type": "execute_result"
    }
   ],
   "source": [
    "horse_data['runner_gender'].value_counts().to_frame()"
   ]
  },
  {
   "cell_type": "code",
   "execution_count": null,
   "metadata": {
    "execution": {
     "iopub.execute_input": "2025-08-31T10:16:12.922761Z",
     "iopub.status.busy": "2025-08-31T10:16:12.922302Z",
     "iopub.status.idle": "2025-08-31T10:16:13.535996Z",
     "shell.execute_reply": "2025-08-31T10:16:13.534945Z",
     "shell.execute_reply.started": "2025-08-31T10:16:12.922727Z"
    },
    "id": "yKgrs4iKoQsJ",
    "outputId": "6e400ae8-a617-4d58-d79d-16fada06a13c"
   },
   "outputs": [
    {
     "data": {
      "text/html": [
       "<div>\n",
       "<style scoped>\n",
       "    .dataframe tbody tr th:only-of-type {\n",
       "        vertical-align: middle;\n",
       "    }\n",
       "\n",
       "    .dataframe tbody tr th {\n",
       "        vertical-align: top;\n",
       "    }\n",
       "\n",
       "    .dataframe thead th {\n",
       "        text-align: right;\n",
       "    }\n",
       "</style>\n",
       "<table border=\"1\" class=\"dataframe\">\n",
       "  <thead>\n",
       "    <tr style=\"text-align: right;\">\n",
       "      <th></th>\n",
       "      <th>count</th>\n",
       "    </tr>\n",
       "    <tr>\n",
       "      <th>runner_gender</th>\n",
       "      <th></th>\n",
       "    </tr>\n",
       "  </thead>\n",
       "  <tbody>\n",
       "    <tr>\n",
       "      <th>1</th>\n",
       "      <td>169742</td>\n",
       "    </tr>\n",
       "    <tr>\n",
       "      <th>2</th>\n",
       "      <td>37185</td>\n",
       "    </tr>\n",
       "    <tr>\n",
       "      <th>3</th>\n",
       "      <td>419</td>\n",
       "    </tr>\n",
       "    <tr>\n",
       "      <th>4</th>\n",
       "      <td>1</td>\n",
       "    </tr>\n",
       "  </tbody>\n",
       "</table>\n",
       "</div>"
      ],
      "text/plain": [
       "                count\n",
       "runner_gender        \n",
       "1              169742\n",
       "2               37185\n",
       "3                 419\n",
       "4                   1"
      ]
     },
     "execution_count": 30,
     "metadata": {},
     "output_type": "execute_result"
    }
   ],
   "source": [
    "horse_data[['runner_id', 'runner_gender']].dropna().groupby('runner_id')['runner_gender'].nunique().value_counts().to_frame()"
   ]
  },
  {
   "cell_type": "code",
   "execution_count": null,
   "metadata": {
    "execution": {
     "iopub.execute_input": "2025-08-31T10:16:13.537488Z",
     "iopub.status.busy": "2025-08-31T10:16:13.537155Z",
     "iopub.status.idle": "2025-08-31T10:16:14.724512Z",
     "shell.execute_reply": "2025-08-31T10:16:14.723514Z",
     "shell.execute_reply.started": "2025-08-31T10:16:13.537458Z"
    },
    "id": "-rK9Dij1oQsK",
    "outputId": "03f41cfe-db7c-46ca-c58d-807c45568d8d"
   },
   "outputs": [
    {
     "data": {
      "text/plain": [
       "runner_id\n",
       "600134    4\n",
       "Name: runner_gender, dtype: int64"
      ]
     },
     "execution_count": 31,
     "metadata": {},
     "output_type": "execute_result"
    }
   ],
   "source": [
    "horse_data[['runner_id', 'runner_gender']].dropna().groupby('runner_id')['runner_gender'].nunique()[horse_data[['runner_id', 'runner_gender']].dropna().groupby('runner_id')['runner_gender'].nunique()==4]"
   ]
  },
  {
   "cell_type": "code",
   "execution_count": null,
   "metadata": {
    "execution": {
     "iopub.execute_input": "2025-08-31T10:16:14.725812Z",
     "iopub.status.busy": "2025-08-31T10:16:14.725544Z",
     "iopub.status.idle": "2025-08-31T10:16:14.738719Z",
     "shell.execute_reply": "2025-08-31T10:16:14.737457Z",
     "shell.execute_reply.started": "2025-08-31T10:16:14.72579Z"
    },
    "id": "r6AK7p1YoQsK",
    "outputId": "89f5013a-1a76-45eb-c675-c4ad5488d8ce"
   },
   "outputs": [
    {
     "data": {
      "text/plain": [
       "runner_gender\n",
       "G    70\n",
       "M     4\n",
       "H     4\n",
       "C     1\n",
       "Name: count, dtype: int64"
      ]
     },
     "execution_count": 32,
     "metadata": {},
     "output_type": "execute_result"
    }
   ],
   "source": [
    "horse_data[horse_data['runner_id']==600134]['runner_gender'].value_counts()"
   ]
  },
  {
   "cell_type": "code",
   "execution_count": null,
   "metadata": {
    "execution": {
     "iopub.execute_input": "2025-08-31T10:16:14.740328Z",
     "iopub.status.busy": "2025-08-31T10:16:14.739897Z",
     "iopub.status.idle": "2025-08-31T10:16:14.911839Z",
     "shell.execute_reply": "2025-08-31T10:16:14.910511Z",
     "shell.execute_reply.started": "2025-08-31T10:16:14.740294Z"
    },
    "id": "zQ4HV8_qoQsK",
    "outputId": "a584fa98-03d4-44ab-ad6d-5da00cdaed67"
   },
   "outputs": [
    {
     "data": {
      "text/html": [
       "<div>\n",
       "<style scoped>\n",
       "    .dataframe tbody tr th:only-of-type {\n",
       "        vertical-align: middle;\n",
       "    }\n",
       "\n",
       "    .dataframe tbody tr th {\n",
       "        vertical-align: top;\n",
       "    }\n",
       "\n",
       "    .dataframe thead th {\n",
       "        text-align: right;\n",
       "    }\n",
       "</style>\n",
       "<table border=\"1\" class=\"dataframe\">\n",
       "  <thead>\n",
       "    <tr style=\"text-align: right;\">\n",
       "      <th></th>\n",
       "      <th>mean</th>\n",
       "      <th>0%</th>\n",
       "      <th>0.5%</th>\n",
       "      <th>25%</th>\n",
       "      <th>50%</th>\n",
       "      <th>75%</th>\n",
       "      <th>99.5%</th>\n",
       "      <th>100%</th>\n",
       "    </tr>\n",
       "  </thead>\n",
       "  <tbody>\n",
       "    <tr>\n",
       "      <th>runner_age</th>\n",
       "      <td>5.062465</td>\n",
       "      <td>-128.0</td>\n",
       "      <td>2.0</td>\n",
       "      <td>3.0</td>\n",
       "      <td>5.0</td>\n",
       "      <td>6.0</td>\n",
       "      <td>12.0</td>\n",
       "      <td>127.0</td>\n",
       "    </tr>\n",
       "  </tbody>\n",
       "</table>\n",
       "</div>"
      ],
      "text/plain": [
       "                mean     0%  0.5%  25%  50%  75%  99.5%   100%\n",
       "runner_age  5.062465 -128.0   2.0  3.0  5.0  6.0   12.0  127.0"
      ]
     },
     "execution_count": 33,
     "metadata": {},
     "output_type": "execute_result"
    }
   ],
   "source": [
    "horse_data['runner_age'].describe(percentiles=percentiles).to_frame().T[cols_to_keep]#.to_latex(float_format=\"{:.2f}\".format))"
   ]
  },
  {
   "cell_type": "code",
   "execution_count": null,
   "metadata": {
    "execution": {
     "iopub.execute_input": "2025-08-31T10:16:14.913189Z",
     "iopub.status.busy": "2025-08-31T10:16:14.912878Z",
     "iopub.status.idle": "2025-08-31T10:16:15.08388Z",
     "shell.execute_reply": "2025-08-31T10:16:15.08286Z",
     "shell.execute_reply.started": "2025-08-31T10:16:14.913165Z"
    },
    "id": "WdfR3VKboQsL",
    "outputId": "90b59272-ca90-45c1-9e41-b6cfccb9c7d7"
   },
   "outputs": [
    {
     "data": {
      "text/html": [
       "<div>\n",
       "<style scoped>\n",
       "    .dataframe tbody tr th:only-of-type {\n",
       "        vertical-align: middle;\n",
       "    }\n",
       "\n",
       "    .dataframe tbody tr th {\n",
       "        vertical-align: top;\n",
       "    }\n",
       "\n",
       "    .dataframe thead th {\n",
       "        text-align: right;\n",
       "    }\n",
       "</style>\n",
       "<table border=\"1\" class=\"dataframe\">\n",
       "  <thead>\n",
       "    <tr style=\"text-align: right;\">\n",
       "      <th></th>\n",
       "      <th>mean</th>\n",
       "      <th>0%</th>\n",
       "      <th>0.5%</th>\n",
       "      <th>25%</th>\n",
       "      <th>50%</th>\n",
       "      <th>75%</th>\n",
       "      <th>99.5%</th>\n",
       "      <th>100%</th>\n",
       "    </tr>\n",
       "  </thead>\n",
       "  <tbody>\n",
       "    <tr>\n",
       "      <th>runner_age</th>\n",
       "      <td>5.054944</td>\n",
       "      <td>1.0</td>\n",
       "      <td>2.0</td>\n",
       "      <td>3.0</td>\n",
       "      <td>5.0</td>\n",
       "      <td>6.0</td>\n",
       "      <td>12.0</td>\n",
       "      <td>22.0</td>\n",
       "    </tr>\n",
       "  </tbody>\n",
       "</table>\n",
       "</div>"
      ],
      "text/plain": [
       "                mean   0%  0.5%  25%  50%  75%  99.5%  100%\n",
       "runner_age  5.054944  1.0   2.0  3.0  5.0  6.0   12.0  22.0"
      ]
     },
     "execution_count": 34,
     "metadata": {},
     "output_type": "execute_result"
    }
   ],
   "source": [
    "horse_data['runner_age'][\n",
    "    (\n",
    "        (horse_data['runner_age']<=50) & (horse_data['runner_age']>=0)\n",
    "    )\n",
    "].describe(percentiles=percentiles).to_frame().T[cols_to_keep]#.to_latex(float_format=\"{:.2f}\".format))"
   ]
  },
  {
   "cell_type": "code",
   "execution_count": null,
   "metadata": {
    "execution": {
     "iopub.execute_input": "2025-08-31T10:16:15.085185Z",
     "iopub.status.busy": "2025-08-31T10:16:15.084835Z",
     "iopub.status.idle": "2025-08-31T10:16:15.213241Z",
     "shell.execute_reply": "2025-08-31T10:16:15.212213Z",
     "shell.execute_reply.started": "2025-08-31T10:16:15.085156Z"
    },
    "id": "N0X95-NSoQsL",
    "outputId": "d79fc433-4271-4974-def7-5678b11cfaf3"
   },
   "outputs": [
    {
     "data": {
      "text/html": [
       "<div>\n",
       "<style scoped>\n",
       "    .dataframe tbody tr th:only-of-type {\n",
       "        vertical-align: middle;\n",
       "    }\n",
       "\n",
       "    .dataframe tbody tr th {\n",
       "        vertical-align: top;\n",
       "    }\n",
       "\n",
       "    .dataframe thead th {\n",
       "        text-align: right;\n",
       "    }\n",
       "</style>\n",
       "<table border=\"1\" class=\"dataframe\">\n",
       "  <thead>\n",
       "    <tr style=\"text-align: right;\">\n",
       "      <th></th>\n",
       "      <th>count</th>\n",
       "      <th>mean</th>\n",
       "      <th>std</th>\n",
       "      <th>min</th>\n",
       "      <th>25%</th>\n",
       "      <th>50%</th>\n",
       "      <th>75%</th>\n",
       "      <th>max</th>\n",
       "    </tr>\n",
       "  </thead>\n",
       "  <tbody>\n",
       "    <tr>\n",
       "      <th>runner_age</th>\n",
       "      <td>2507363.0</td>\n",
       "      <td>5.062465</td>\n",
       "      <td>2.565126</td>\n",
       "      <td>-128.0</td>\n",
       "      <td>3.0</td>\n",
       "      <td>5.0</td>\n",
       "      <td>6.0</td>\n",
       "      <td>127.0</td>\n",
       "    </tr>\n",
       "  </tbody>\n",
       "</table>\n",
       "</div>"
      ],
      "text/plain": [
       "                count      mean       std    min  25%  50%  75%    max\n",
       "runner_age  2507363.0  5.062465  2.565126 -128.0  3.0  5.0  6.0  127.0"
      ]
     },
     "execution_count": 35,
     "metadata": {},
     "output_type": "execute_result"
    }
   ],
   "source": [
    "horse_data['runner_age'].describe().to_frame().T"
   ]
  },
  {
   "cell_type": "code",
   "execution_count": null,
   "metadata": {
    "execution": {
     "iopub.execute_input": "2025-08-31T10:16:15.214526Z",
     "iopub.status.busy": "2025-08-31T10:16:15.214259Z",
     "iopub.status.idle": "2025-08-31T10:16:16.575088Z",
     "shell.execute_reply": "2025-08-31T10:16:16.574002Z",
     "shell.execute_reply.started": "2025-08-31T10:16:15.214505Z"
    },
    "id": "tC5L6oGYoQsL",
    "outputId": "c3f55198-52d5-4b05-e4c9-194a7ddb126e"
   },
   "outputs": [
    {
     "data": {
      "image/png": "[encoded data removed]",
      "text/plain": [
       "<Figure size 640x480 with 1 Axes>"
      ]
     },
     "metadata": {},
     "output_type": "display_data"
    }
   ],
   "source": [
    "row_subset = (horse_data['runner_age']>0) & (horse_data['runner_age']<50)\n",
    "column_subset = ['runner_gender', 'runner_age']\n",
    "ax = sns.boxplot(\n",
    "    horse_data.loc[row_subset, column_subset],\n",
    "    x = \"runner_gender\",\n",
    "    y = \"runner_age\",\n",
    ")\n",
    "ax.set(\n",
    "    xlabel='Sex of Horse',\n",
    "    ylabel='Age of Horse in years',\n",
    "    #title = \"Distribution of age of runner\\n conditioned on sex of runner\",\n",
    ")\n",
    "ax.set_xticklabels([\"Gelding\",\"Mare\",\"Horse\",'Filly',\"Ridgeling\",\"Colt\"])\n",
    "plt.show()"
   ]
  },
  {
   "cell_type": "code",
   "execution_count": null,
   "metadata": {
    "execution": {
     "iopub.execute_input": "2025-08-31T10:16:16.576491Z",
     "iopub.status.busy": "2025-08-31T10:16:16.576211Z",
     "iopub.status.idle": "2025-08-31T10:16:17.434336Z",
     "shell.execute_reply": "2025-08-31T10:16:17.433301Z",
     "shell.execute_reply.started": "2025-08-31T10:16:16.576469Z"
    },
    "id": "hHpJsVNVoQsL",
    "outputId": "0a1bb3e6-2f33-4d53-ebb4-e5c9ceccf2ec"
   },
   "outputs": [
    {
     "data": {
      "image/png": "[encoded data removed]",
      "text/plain": [
       "<Figure size 1000x400 with 1 Axes>"
      ]
     },
     "metadata": {},
     "output_type": "display_data"
    }
   ],
   "source": [
    "n_runs = horse_data.groupby('runner_id')['race_id'].nunique().value_counts().to_frame()\n",
    "n_runs.index.name = 'Number of recorded race starts'\n",
    "n_runs.columns = ['Density']\n",
    "n_runs = n_runs.sort_index()\n",
    "n_runs = n_runs.loc[:40]\n",
    "plt.figure(figsize=(10,4))\n",
    "ax = sns.barplot(\n",
    "    y = n_runs[\"Density\"].values,\n",
    "    x = n_runs.index,\n",
    "    color = \"blue\",\n",
    ")\n",
    "\n",
    "#plt.setp(ax.get_xticklabels(), rotation=90)\n",
    "ax.set(\n",
    "    #title=\"Distribution of number of races a given horse runs\\n (Truncated on rights for values greater than 40)\",\n",
    "    ylabel=\"Frequency\"\n",
    ")\n",
    "\n",
    "plt.show()"
   ]
  }
 ],
 "metadata": {
  "colab": {
   "name": "final_eda_notebook",
   "provenance": []
  },
  "kaggle": {
   "accelerator": "none",
   "dataSources": [
    {
     "datasetId": 7604311,
     "sourceId": 12079809,
     "sourceType": "datasetVersion"
    }
   ],
   "dockerImageVersionId": 31089,
   "isGpuEnabled": false,
   "isInternetEnabled": true,
   "language": "python",
   "sourceType": "notebook"
  },
  "kernelspec": {
   "display_name": "Python 3 (ipykernel)",
   "language": "python",
   "name": "python3"
  },
  "language_info": {
   "codemirror_mode": {
    "name": "ipython",
    "version": 3
   },
   "file_extension": ".py",
   "mimetype": "text/x-python",
   "name": "python",
   "nbconvert_exporter": "python",
   "pygments_lexer": "ipython3",
   "version": "3.10.12"
  }
 },
 "nbformat": 4,
 "nbformat_minor": 4
}
